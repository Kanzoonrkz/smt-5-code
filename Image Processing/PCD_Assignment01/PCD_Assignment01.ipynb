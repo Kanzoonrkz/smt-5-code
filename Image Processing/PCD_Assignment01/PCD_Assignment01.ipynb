{
 "cells": [
  {
   "cell_type": "markdown",
   "source": [
    "# **Image Processing - 1st Assignment** \r\n",
    "\r\n",
    "> ## Image Histogram and Non Uniform Quantization\r\n",
    "\r\n",
    "\r\n",
    "\r\n",
    "\r\n",
    "\r\n",
    "\r\n",
    "### Muhammad Kanzoon Mekhfy Asyraq Rekza\r\n",
    "### 19/442479/PA/19228"
   ],
   "metadata": {}
  },
  {
   "cell_type": "markdown",
   "source": [
    "## **Import Libraries and Image**"
   ],
   "metadata": {}
  },
  {
   "cell_type": "code",
   "execution_count": null,
   "source": [
    "import cv2 as cv\r\n",
    "import matplotlib.pyplot as plt\r\n",
    "import numpy as np\r\n",
    "\r\n",
    "img = cv.imread('nagyung.jpeg')\r\n",
    "imgbnw = cv.cvtColor(img, cv.COLOR_BGR2GRAY) # Grayscale"
   ],
   "outputs": [],
   "metadata": {}
  },
  {
   "cell_type": "markdown",
   "source": [
    "## **Show The Image**"
   ],
   "metadata": {}
  },
  {
   "cell_type": "code",
   "execution_count": null,
   "source": [
    "cv.imshow(\"Nagyung\",img)\r\n",
    "cv.waitKey(0)\r\n",
    "# Interupt to stop the process"
   ],
   "outputs": [],
   "metadata": {}
  },
  {
   "cell_type": "code",
   "execution_count": null,
   "source": [
    "cv.imshow(\"Nagyung\",imgbnw)\r\n",
    "cv.waitKey(0)\r\n",
    "# Interupt to stop the process"
   ],
   "outputs": [],
   "metadata": {}
  },
  {
   "cell_type": "markdown",
   "source": [
    "## **Show Image Histogram**"
   ],
   "metadata": {}
  },
  {
   "cell_type": "code",
   "execution_count": null,
   "source": [
    "plt.figure(figsize=(10,5))\r\n",
    "plt.title('RGB Histogram')\r\n",
    "plt.hist(img[:,:,0].ravel(), bins=256, range=(0, 256), color='blue', alpha = 0.4)\r\n",
    "plt.hist(img[:,:,1].ravel(), bins=256, range=(0, 256), color='green', alpha = 0.4)\r\n",
    "plt.hist(img[:,:,2].ravel(), bins=256, range=(0, 256), color='red', alpha = 0.3)\r\n",
    "plt.show()"
   ],
   "outputs": [],
   "metadata": {}
  },
  {
   "cell_type": "code",
   "execution_count": null,
   "source": [
    "# Histogram for bnw image\r\n",
    "plt.figure(figsize=(10,5))\r\n",
    "plt.title('Grayscale Histogram')\r\n",
    "plt.hist(imgbnw.ravel(), bins=256, range=(0, 256), color='black', alpha=0.4)\r\n",
    "plt.show()"
   ],
   "outputs": [],
   "metadata": {}
  },
  {
   "cell_type": "markdown",
   "source": [
    "## **Non Uniform Quantization Process**\r\n",
    "\r\n",
    "Technique : Get mean of list, set as devide point, continue until K part, every part value equals to mean of its own part"
   ],
   "metadata": {}
  },
  {
   "cell_type": "code",
   "execution_count": null,
   "source": [
    "# Make new sorted array of imgbnw \r\n",
    "imgsorted = imgbnw.copy()\r\n",
    "imgsorted = imgsorted.ravel()\r\n",
    "imgsorted.sort()\r\n",
    "\r\n",
    "# DUMMY DATA\r\n",
    "# imgsorted = np.array([1,2,3,4,5,6,7,8,9,10,11,12,13,14,15,16,17,18,19,20])\r\n",
    "\r\n",
    "# Make new empty list for indexing, with start and end\r\n",
    "arrindex = []\r\n",
    "arrindex.append([])\r\n",
    "arrindex[-1].append(0)\r\n",
    "arrindex[-1].append(0)\r\n",
    "arrindex.append([])\r\n",
    "arrindex[-1].append(len(imgsorted))\r\n",
    "arrindex[-1].append(256)\r\n"
   ],
   "outputs": [],
   "metadata": {}
  },
  {
   "cell_type": "code",
   "execution_count": null,
   "source": [
    "K = 4\r\n",
    "# Fill array arrindex based on image data and K\r\n",
    "for i in range(int(K/2)):\r\n",
    "    length = len(arrindex)\r\n",
    "    for i in range(length-1):\r\n",
    "        # Get the partial list to work with\r\n",
    "        partiallst = imgsorted[int(arrindex[i][0]):int(arrindex[i+1][0])]\r\n",
    "        print(\"Partial list : \" , partiallst)\r\n",
    "        # Get index of last mean value in list. Return index+1 of the value\r\n",
    "        where = np.where(imgsorted == int(partiallst.mean()))[0][-1]+1\r\n",
    "        print(\"index of mean : \" , where , \" with value \" , int(partiallst.mean()))\r\n",
    "        # Insert index and value of mean to arrindex\r\n",
    "        arrindex.append([])\r\n",
    "        arrindex[-1].append(where)\r\n",
    "        arrindex[-1].append(int(partiallst.mean()))\r\n",
    "    arrindex.sort()\r\n"
   ],
   "outputs": [],
   "metadata": {}
  },
  {
   "cell_type": "code",
   "execution_count": null,
   "source": [
    "\r\n",
    "for i in range (len(arrindex)-1):\r\n",
    "    partiallst = imgsorted[int(arrindex[i][0]):int(arrindex[i+1][0])]\r\n",
    "    arrindex[i+1].append(int(partiallst.mean()))"
   ],
   "outputs": [],
   "metadata": {}
  },
  {
   "cell_type": "code",
   "execution_count": null,
   "source": [
    "arrindex.sort()\r\n",
    "print(arrindex, len(arrindex))"
   ],
   "outputs": [],
   "metadata": {}
  },
  {
   "cell_type": "code",
   "execution_count": null,
   "source": [
    "# Create copy of imgbnw\r\n",
    "imgbnwquantized = imgbnw.copy()\r\n",
    "\r\n",
    "# Structure:\r\n",
    "# \r\n",
    "# array.shape[rows][column]\r\n",
    "# \r\n",
    "#   -----> column\r\n",
    "#  |\r\n",
    "#  |\r\n",
    "#  v\r\n",
    "# rows\r\n",
    "rows = imgbnwquantized.shape[0]\r\n",
    "cols = imgbnwquantized.shape[1]\r\n",
    "\r\n",
    "for i in range (rows):\r\n",
    "    for j in range (cols):\r\n",
    "        # imgbnwquantized[i][j] = 125\r\n",
    "        for k in range (len(arrindex)-1):\r\n",
    "            if(imgbnwquantized[i][j] > arrindex[k][1]) and (imgbnwquantized[i][j] <= arrindex[k+1][1]):\r\n",
    "                imgbnwquantized[i][j] = arrindex[k+1][2]\r\n",
    "                break\r\n",
    "            else:\r\n",
    "                continue \r\n"
   ],
   "outputs": [],
   "metadata": {}
  },
  {
   "cell_type": "code",
   "execution_count": null,
   "source": [
    "print(len(arrindex))\r\n",
    "print(arrindex[0][1])\r\n",
    "print(imgbnwquantized)"
   ],
   "outputs": [],
   "metadata": {}
  },
  {
   "cell_type": "code",
   "execution_count": null,
   "source": [
    "cv.imshow(\"Nagyung Quantized\",imgbnwquantized)\r\n",
    "cv.waitKey(0)"
   ],
   "outputs": [],
   "metadata": {}
  },
  {
   "cell_type": "code",
   "execution_count": null,
   "source": [
    "# Histogram for bnw image\r\n",
    "plt.figure(figsize=(10,5))\r\n",
    "plt.title('Quantized Histogram, K=4')\r\n",
    "plt.hist(imgbnwquantized.ravel(), bins=256, range=(0, 256), color='black', alpha=0.4)\r\n",
    "plt.show()"
   ],
   "outputs": [],
   "metadata": {}
  }
 ],
 "metadata": {
  "orig_nbformat": 4,
  "language_info": {
   "name": "python",
   "version": "3.9.7",
   "mimetype": "text/x-python",
   "codemirror_mode": {
    "name": "ipython",
    "version": 3
   },
   "pygments_lexer": "ipython3",
   "nbconvert_exporter": "python",
   "file_extension": ".py"
  },
  "kernelspec": {
   "name": "python3",
   "display_name": "Python 3.9.7 64-bit"
  },
  "interpreter": {
   "hash": "1f61b406b04f01abd3b7afdcf46898ee3cdf024e291fe468fdcd279e09006292"
  }
 },
 "nbformat": 4,
 "nbformat_minor": 2
}